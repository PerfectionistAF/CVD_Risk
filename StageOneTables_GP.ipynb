{
  "nbformat": 4,
  "nbformat_minor": 0,
  "metadata": {
    "colab": {
      "provenance": [],
      "toc_visible": true,
      "authorship_tag": "ABX9TyMFthGIghuMFx88RJivlIBY",
      "include_colab_link": true
    },
    "kernelspec": {
      "name": "python3",
      "display_name": "Python 3"
    },
    "language_info": {
      "name": "python"
    }
  },
  "cells": [
    {
      "cell_type": "markdown",
      "metadata": {
        "id": "view-in-github",
        "colab_type": "text"
      },
      "source": [
        "<a href=\"https://colab.research.google.com/github/PerfectionistAF/CVD_Risk/blob/main/StageOneTables_GP.ipynb\" target=\"_parent\"><img src=\"https://colab.research.google.com/assets/colab-badge.svg\" alt=\"Open In Colab\"/></a>"
      ]
    },
    {
      "cell_type": "markdown",
      "source": [
        "# *Data Analysis: Tabular Data*"
      ],
      "metadata": {
        "id": "BsKwlw2od4BW"
      }
    },
    {
      "cell_type": "code",
      "source": [],
      "metadata": {
        "id": "8TN3cdJSd_gD"
      },
      "execution_count": null,
      "outputs": []
    },
    {
      "cell_type": "markdown",
      "source": [
        "#*Pretraining: Tabular Data*"
      ],
      "metadata": {
        "id": "EtT7EHnDgEKs"
      }
    },
    {
      "cell_type": "code",
      "source": [],
      "metadata": {
        "id": "06vQlTAhgOsh"
      },
      "execution_count": null,
      "outputs": []
    }
  ]
}