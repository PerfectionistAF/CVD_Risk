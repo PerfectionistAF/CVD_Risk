{
  "nbformat": 4,
  "nbformat_minor": 0,
  "metadata": {
    "colab": {
      "provenance": [],
      "toc_visible": true,
      "authorship_tag": "ABX9TyNBp2LUPvAEaoW3GHkTo5L1",
      "include_colab_link": true
    },
    "kernelspec": {
      "name": "python3",
      "display_name": "Python 3"
    },
    "language_info": {
      "name": "python"
    }
  },
  "cells": [
    {
      "cell_type": "markdown",
      "metadata": {
        "id": "view-in-github",
        "colab_type": "text"
      },
      "source": [
        "<a href=\"https://colab.research.google.com/github/PerfectionistAF/CVD_Risk/blob/main/StageOneImages_GP.ipynb\" target=\"_parent\"><img src=\"https://colab.research.google.com/assets/colab-badge.svg\" alt=\"Open In Colab\"/></a>"
      ]
    },
    {
      "cell_type": "markdown",
      "source": [
        "#*Data Analysis: Image Data*"
      ],
      "metadata": {
        "id": "nNkOuhfnhWV2"
      }
    },
    {
      "cell_type": "code",
      "execution_count": null,
      "metadata": {
        "id": "TpDXMOX9hRKX"
      },
      "outputs": [],
      "source": []
    },
    {
      "cell_type": "markdown",
      "source": [
        "#*Pretraining: Image Data*"
      ],
      "metadata": {
        "id": "oG7qCnKBhiJU"
      }
    },
    {
      "cell_type": "code",
      "source": [],
      "metadata": {
        "id": "4X27heLphn7j"
      },
      "execution_count": null,
      "outputs": []
    }
  ]
}